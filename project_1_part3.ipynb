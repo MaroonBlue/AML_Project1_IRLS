{
 "cells": [
  {
   "attachments": {},
   "cell_type": "markdown",
   "metadata": {},
   "source": [
    "### Part 3 (real datasets experiments)"
   ]
  },
  {
   "cell_type": "code",
   "execution_count": 36,
   "metadata": {},
   "outputs": [],
   "source": [
    "from sklearn.datasets import load_breast_cancer\n",
    "import pandas as pd\n",
    "import numpy as np\n",
    "from sklearn.model_selection import train_test_split\n",
    "from sklearn.discriminant_analysis import LinearDiscriminantAnalysis, QuadraticDiscriminantAnalysis\n",
    "from sklearn.neighbors import KNeighborsClassifier\n",
    "from sklearn.metrics import accuracy_score, precision_score, recall_score, f1_score\n",
    "import seaborn as sns\n",
    "sns.set(rc={'figure.figsize':(9,7)})"
   ]
  },
  {
   "cell_type": "code",
   "execution_count": 27,
   "metadata": {},
   "outputs": [
    {
     "data": {
      "text/plain": [
       "mean radius                float64\n",
       "mean texture               float64\n",
       "mean perimeter             float64\n",
       "mean area                  float64\n",
       "mean smoothness            float64\n",
       "mean compactness           float64\n",
       "mean concavity             float64\n",
       "mean concave points        float64\n",
       "mean symmetry              float64\n",
       "mean fractal dimension     float64\n",
       "radius error               float64\n",
       "texture error              float64\n",
       "perimeter error            float64\n",
       "area error                 float64\n",
       "smoothness error           float64\n",
       "compactness error          float64\n",
       "concavity error            float64\n",
       "concave points error       float64\n",
       "symmetry error             float64\n",
       "fractal dimension error    float64\n",
       "worst radius               float64\n",
       "worst texture              float64\n",
       "worst perimeter            float64\n",
       "worst area                 float64\n",
       "worst smoothness           float64\n",
       "worst compactness          float64\n",
       "worst concavity            float64\n",
       "worst concave points       float64\n",
       "worst symmetry             float64\n",
       "worst fractal dimension    float64\n",
       "target                       int32\n",
       "dtype: object"
      ]
     },
     "execution_count": 27,
     "metadata": {},
     "output_type": "execute_result"
    }
   ],
   "source": [
    "#load data to pd dataframe\n",
    "data = load_breast_cancer()\n",
    "df_breast = pd.DataFrame(data.data, columns=data.feature_names)\n",
    "df_breast['target'] = data.target\n",
    "#here all data is numeric, no categorical data"
   ]
  },
  {
   "cell_type": "code",
   "execution_count": 34,
   "metadata": {},
   "outputs": [
    {
     "name": "stdout",
     "output_type": "stream",
     "text": [
      "mean radius 456\n",
      "mean texture 479\n",
      "mean perimeter 522\n",
      "mean area 539\n",
      "mean smoothness 474\n",
      "mean compactness 537\n",
      "mean concavity 537\n",
      "mean concave points 542\n",
      "mean symmetry 432\n",
      "mean fractal dimension 499\n",
      "radius error 540\n",
      "texture error 519\n",
      "perimeter error 533\n",
      "area error 528\n",
      "smoothness error 547\n",
      "compactness error 541\n",
      "concavity error 533\n",
      "concave points error 507\n",
      "symmetry error 498\n",
      "fractal dimension error 545\n",
      "worst radius 457\n",
      "worst texture 511\n",
      "worst perimeter 514\n",
      "worst area 544\n",
      "worst smoothness 411\n",
      "worst compactness 529\n",
      "worst concavity 539\n",
      "worst concave points 492\n",
      "worst symmetry 500\n",
      "worst fractal dimension 535\n",
      "target 2\n"
     ]
    }
   ],
   "source": [
    "#check various unique values in each column\n",
    "for col in df_breast.columns:\n",
    "    print(col, len(df_breast[col].unique()))"
   ]
  },
  {
   "cell_type": "code",
   "execution_count": 28,
   "metadata": {},
   "outputs": [
    {
     "data": {
      "text/plain": [
       "mean radius                0\n",
       "mean texture               0\n",
       "mean perimeter             0\n",
       "mean area                  0\n",
       "mean smoothness            0\n",
       "mean compactness           0\n",
       "mean concavity             0\n",
       "mean concave points        0\n",
       "mean symmetry              0\n",
       "mean fractal dimension     0\n",
       "radius error               0\n",
       "texture error              0\n",
       "perimeter error            0\n",
       "area error                 0\n",
       "smoothness error           0\n",
       "compactness error          0\n",
       "concavity error            0\n",
       "concave points error       0\n",
       "symmetry error             0\n",
       "fractal dimension error    0\n",
       "worst radius               0\n",
       "worst texture              0\n",
       "worst perimeter            0\n",
       "worst area                 0\n",
       "worst smoothness           0\n",
       "worst compactness          0\n",
       "worst concavity            0\n",
       "worst concave points       0\n",
       "worst symmetry             0\n",
       "worst fractal dimension    0\n",
       "target                     0\n",
       "dtype: int64"
      ]
     },
     "execution_count": 28,
     "metadata": {},
     "output_type": "execute_result"
    }
   ],
   "source": [
    "# check if there are any missing values\n",
    "df_breast.isnull().sum() #no missing values"
   ]
  },
  {
   "cell_type": "code",
   "execution_count": 29,
   "metadata": {},
   "outputs": [
    {
     "name": "stdout",
     "output_type": "stream",
     "text": [
      "10\n",
      "(569, 21)\n"
     ]
    }
   ],
   "source": [
    "#removing collinear variables\n",
    "cor_matrix = df_breast.corr().abs()\n",
    "upper_tri = cor_matrix.where(np.triu(cor_matrix, k=1).astype(np.bool))\n",
    "# drop columns with correlation > 0.9\n",
    "to_drop = [col for col in upper_tri.columns if any(upper_tri[col] > 0.9)]\n",
    "print(len(to_drop)) # 10 found to be dropped\n",
    "df_breast_without_collinear = df_breast.drop(to_drop, axis=1)\n",
    "print(df_breast_without_collinear.shape) "
   ]
  },
  {
   "attachments": {},
   "cell_type": "markdown",
   "metadata": {},
   "source": [
    "##### Other methods"
   ]
  },
  {
   "cell_type": "code",
   "execution_count": 37,
   "metadata": {},
   "outputs": [],
   "source": [
    "def metrics_LDA(X_train, X_test, y_train, y_test):\n",
    "    lda = LinearDiscriminantAnalysis()\n",
    "    lda.fit(X_train, y_train)\n",
    "    y_pred = lda.predict(X_test)\n",
    "    acc=accuracy_score(y_test, y_pred)\n",
    "    prec=precision_score(y_test, y_pred)\n",
    "    rec=recall_score(y_test, y_pred)\n",
    "    f1=f1_score(y_test, y_pred)\n",
    "    return acc, prec, rec, f1"
   ]
  },
  {
   "cell_type": "code",
   "execution_count": 42,
   "metadata": {},
   "outputs": [],
   "source": [
    "def metrics_QDA(X_train, X_test, y_train, y_test):\n",
    "    qda = QuadraticDiscriminantAnalysis()\n",
    "    qda.fit(X_train, y_train)\n",
    "    y_pred = qda.predict(X_test)\n",
    "    acc=accuracy_score(y_test, y_pred)\n",
    "    prec=precision_score(y_test, y_pred)\n",
    "    rec=recall_score(y_test, y_pred)\n",
    "    f1=f1_score(y_test, y_pred)\n",
    "    return acc, prec, rec, f1"
   ]
  },
  {
   "cell_type": "code",
   "execution_count": 43,
   "metadata": {},
   "outputs": [],
   "source": [
    "def metrics_KNN(X_train, X_test, y_train, y_test):\n",
    "    knn = KNeighborsClassifier()\n",
    "    knn.fit(X_train, y_train)\n",
    "    y_pred = knn.predict(X_test)\n",
    "    acc=accuracy_score(y_test, y_pred)\n",
    "    prec=precision_score(y_test, y_pred)\n",
    "    rec=recall_score(y_test, y_pred)\n",
    "    f1=f1_score(y_test, y_pred)\n",
    "    return acc, prec, rec, f1"
   ]
  },
  {
   "cell_type": "code",
   "execution_count": 38,
   "metadata": {},
   "outputs": [],
   "source": [
    "def metrics_IRLS(X_train, X_test, y_train, y_test):\n",
    "    return 0,0,0,0"
   ]
  },
  {
   "cell_type": "code",
   "execution_count": 39,
   "metadata": {},
   "outputs": [],
   "source": [
    "def metrics_IRLS_interactions(X_train, X_test, y_train, y_test):\n",
    "    return 0,0,0,0"
   ]
  },
  {
   "attachments": {},
   "cell_type": "markdown",
   "metadata": {},
   "source": [
    "##### Comparison between methods"
   ]
  },
  {
   "cell_type": "code",
   "execution_count": 44,
   "metadata": {},
   "outputs": [],
   "source": [
    "#for each experiment, split data into train and test sets with different seed\n",
    "def run_experiments(X, y, iterations=10):\n",
    "    acc_all=np.zeros((iterations, 5))\n",
    "    prec_all=np.zeros((iterations, 5))\n",
    "    rec_all=np.zeros((iterations, 5))\n",
    "    f1_all=np.zeros((iterations, 5))\n",
    "    for i in range(iterations):\n",
    "        X_train, X_test, y_train, y_test = train_test_split(X, y, test_size=0.2, random_state=i)\n",
    "        acc_all[i, 0], prec_all[i, 0], rec_all[i, 0], f1_all[i, 0] = metrics_LDA(X_train, X_test, y_train, y_test)\n",
    "        acc_all[i, 1], prec_all[i, 1], rec_all[i, 1], f1_all[i, 1] = metrics_QDA(X_train, X_test, y_train, y_test)\n",
    "        acc_all[i, 2], prec_all[i, 2], rec_all[i, 2], f1_all[i, 2] = metrics_KNN(X_train, X_test, y_train, y_test)\n",
    "        acc_all[i, 3], prec_all[i, 3], rec_all[i, 3], f1_all[i, 3] = metrics_IRLS(X_train, X_test, y_train, y_test)\n",
    "        acc_all[i, 4], prec_all[i, 4], rec_all[i, 4], f1_all[i, 4] = metrics_IRLS_interactions(X_train, X_test, y_train, y_test)\n",
    "    return acc_all, prec_all, rec_all, f1_all"
   ]
  },
  {
   "cell_type": "code",
   "execution_count": 45,
   "metadata": {},
   "outputs": [],
   "source": [
    "acc_all_brest, prec_all_breast, rec_all_breast, f1_all_breast = run_experiments(df_breast_without_collinear.drop('target', axis=1), df_breast_without_collinear['target'])"
   ]
  },
  {
   "cell_type": "code",
   "execution_count": 49,
   "metadata": {},
   "outputs": [
    {
     "data": {
      "text/plain": [
       "[Text(0, 0, 'LDA'),\n",
       " Text(1, 0, 'QDA'),\n",
       " Text(2, 0, 'KNN'),\n",
       " Text(3, 0, 'IRLS'),\n",
       " Text(4, 0, 'IRLS_interactions')]"
      ]
     },
     "execution_count": 49,
     "metadata": {},
     "output_type": "execute_result"
    },
    {
     "data": {
      "image/png": "[encoded data removed]",
      "text/plain": [
       "<Figure size 648x504 with 1 Axes>"
      ]
     },
     "metadata": {},
     "output_type": "display_data"
    }
   ],
   "source": [
    "fig_auc=sns.boxplot(data=acc_all_brest, palette='Blues_d')\n",
    "fig_auc.set_title('Accuracy for different models', fontsize=20)\n",
    "fig_auc.set_ylabel('Accuracy', fontsize=15)\n",
    "fig_auc.set_xlabel('Model', fontsize=15)\n",
    "fig_auc.set_xticklabels(['LDA', 'QDA', 'KNN', 'IRLS', 'IRLS_interactions'], fontsize=12)"
   ]
  },
  {
   "cell_type": "code",
   "execution_count": 50,
   "metadata": {},
   "outputs": [
    {
     "data": {
      "text/plain": [
       "[Text(0, 0, 'LDA'),\n",
       " Text(1, 0, 'QDA'),\n",
       " Text(2, 0, 'KNN'),\n",
       " Text(3, 0, 'IRLS'),\n",
       " Text(4, 0, 'IRLS_interactions')]"
      ]
     },
     "execution_count": 50,
     "metadata": {},
     "output_type": "execute_result"
    },
    {
     "data": {
      "image/png": "[encoded data removed]",
      "text/plain": [
       "<Figure size 648x504 with 1 Axes>"
      ]
     },
     "metadata": {},
     "output_type": "display_data"
    }
   ],
   "source": [
    "fig_prec=sns.boxplot(data=prec_all_breast, palette='Blues_d')\n",
    "fig_prec.set_title('Precision for different models', fontsize=20)\n",
    "fig_prec.set_ylabel('Precision', fontsize=15)\n",
    "fig_prec.set_xlabel('Model', fontsize=15)\n",
    "fig_prec.set_xticklabels(['LDA', 'QDA', 'KNN', 'IRLS', 'IRLS_interactions'], fontsize=12)"
   ]
  },
  {
   "cell_type": "code",
   "execution_count": 51,
   "metadata": {},
   "outputs": [
    {
     "data": {
      "text/plain": [
       "[Text(0, 0, 'LDA'),\n",
       " Text(1, 0, 'QDA'),\n",
       " Text(2, 0, 'KNN'),\n",
       " Text(3, 0, 'IRLS'),\n",
       " Text(4, 0, 'IRLS_interactions')]"
      ]
     },
     "execution_count": 51,
     "metadata": {},
     "output_type": "execute_result"
    },
    {
     "data": {
      "image/png": "[encoded data removed]",
      "text/plain": [
       "<Figure size 648x504 with 1 Axes>"
      ]
     },
     "metadata": {},
     "output_type": "display_data"
    }
   ],
   "source": [
    "fig_recall=sns.boxplot(data=rec_all_breast, palette='Blues_d')\n",
    "fig_recall.set_title('Recall for different models', fontsize=20)\n",
    "fig_recall.set_ylabel('Recall', fontsize=15)\n",
    "fig_recall.set_xlabel('Model', fontsize=15)\n",
    "fig_recall.set_xticklabels(['LDA', 'QDA', 'KNN', 'IRLS', 'IRLS_interactions'], fontsize=12)"
   ]
  },
  {
   "cell_type": "code",
   "execution_count": 52,
   "metadata": {},
   "outputs": [
    {
     "data": {
      "text/plain": [
       "[Text(0, 0, 'LDA'),\n",
       " Text(1, 0, 'QDA'),\n",
       " Text(2, 0, 'KNN'),\n",
       " Text(3, 0, 'IRLS'),\n",
       " Text(4, 0, 'IRLS_interactions')]"
      ]
     },
     "execution_count": 52,
     "metadata": {},
     "output_type": "execute_result"
    },
    {
     "data": {
      "image/png": "[encoded data removed]",
      "text/plain": [
       "<Figure size 648x504 with 1 Axes>"
      ]
     },
     "metadata": {},
     "output_type": "display_data"
    }
   ],
   "source": [
    "fig_f1=sns.boxplot(data=f1_all_breast, palette='Blues_d')\n",
    "fig_f1.set_title('F1 score for different models', fontsize=20)\n",
    "fig_f1.set_ylabel('F1 score', fontsize=15)\n",
    "fig_f1.set_xlabel('Model', fontsize=15)\n",
    "fig_f1.set_xticklabels(['LDA', 'QDA', 'KNN', 'IRLS', 'IRLS_interactions'], fontsize=12)"
   ]
  },
  {
   "attachments": {},
   "cell_type": "markdown",
   "metadata": {},
   "source": [
    "TO DO drugi dataset\n",
    "dodać irls aby działało\n",
    "porówniae obu irls"
   ]
  },
  {
   "cell_type": "code",
   "execution_count": null,
   "metadata": {},
   "outputs": [],
   "source": []
  }
 ],
 "metadata": {
  "kernelspec": {
   "display_name": "env_for_ml_st",
   "language": "python",
   "name": "python3"
  },
  "language_info": {
   "codemirror_mode": {
    "name": "ipython",
    "version": 3
   },
   "file_extension": ".py",
   "mimetype": "text/x-python",
   "name": "python",
   "nbconvert_exporter": "python",
   "pygments_lexer": "ipython3",
   "version": "3.8.10"
  },
  "orig_nbformat": 4
 },
 "nbformat": 4,
 "nbformat_minor": 2
}
