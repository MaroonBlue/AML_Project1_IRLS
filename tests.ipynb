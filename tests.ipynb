{
 "cells": [
  {
   "cell_type": "code",
   "execution_count": 71,
   "metadata": {},
   "outputs": [],
   "source": [
    "import numpy as np\n",
    "import pandas as pd\n",
    "from scipy.special import expit\n",
    "from scipy.stats import bernoulli\n",
    "from sklearn.metrics import accuracy_score"
   ]
  },
  {
   "cell_type": "code",
   "execution_count": 72,
   "metadata": {},
   "outputs": [],
   "source": [
    "%run LogisticRegression_with_IRLS.py"
   ]
  },
  {
   "attachments": {},
   "cell_type": "markdown",
   "metadata": {},
   "source": [
    "### Dataset 1"
   ]
  },
  {
   "cell_type": "code",
   "execution_count": 73,
   "metadata": {},
   "outputs": [],
   "source": [
    "def sigmoid(z):\n",
    "    return 1.0 / (1.0 + np.exp(-z))"
   ]
  },
  {
   "cell_type": "code",
   "execution_count": 74,
   "metadata": {},
   "outputs": [],
   "source": [
    "# Generate a synthetic dataset\n",
    "np.random.seed(123)\n",
    "X = np.random.normal(size=(100, 2))\n",
    "y = np.random.binomial(1, sigmoid(np.dot(np.column_stack((np.ones(100), X)), np.array([1, 2, 3]))))"
   ]
  },
  {
   "cell_type": "code",
   "execution_count": 75,
   "metadata": {},
   "outputs": [
    {
     "data": {
      "text/plain": [
       "0.68"
      ]
     },
     "execution_count": 75,
     "metadata": {},
     "output_type": "execute_result"
    }
   ],
   "source": [
    "clf = LogisticRegression_with_IRLS()\n",
    "clf.fit(X,y,[[0,1]])\n",
    "proba = clf.predict_proba(X)\n",
    "y_pred = clf.predict(X)\n",
    "accuracy_score(y,y_pred)"
   ]
  },
  {
   "cell_type": "code",
   "execution_count": 76,
   "metadata": {},
   "outputs": [
    {
     "data": {
      "text/plain": [
       "array([0.36972285, 0.48578891, 0.42195174, 0.35466602, 0.53847856,\n",
       "       0.4470569 , 0.56627923, 0.46908775, 0.8572493 , 0.60416166,\n",
       "       0.62863274, 0.38209671, 0.43209554, 0.49331574, 0.4857589 ,\n",
       "       0.48645824, 0.41207518, 0.56535507, 0.5074774 , 0.41916147,\n",
       "       0.4870753 , 0.46270362, 0.52729108, 0.73094716, 0.70229418,\n",
       "       0.45207354, 0.56296992, 0.51513623, 0.6641347 , 0.70229767,\n",
       "       0.41476608, 0.49069063, 0.67461983, 0.50075459, 0.39371935,\n",
       "       0.50981319, 0.51863396, 0.24987492, 0.46838552, 0.48335809,\n",
       "       0.55117551, 0.70030915, 0.48041955, 0.47280377, 0.68097985,\n",
       "       0.50661179, 0.53778396, 0.46583817, 0.47252936, 0.51971292,\n",
       "       0.46734373, 0.67195382, 0.49830111, 0.47833654, 0.48333503,\n",
       "       0.45110832, 0.42695933, 0.5986288 , 0.40882742, 0.43747513,\n",
       "       0.47950584, 0.52220791, 0.60485029, 0.59113159, 0.51925931,\n",
       "       0.46301569, 0.42967259, 0.57737999, 0.42409999, 0.59193139,\n",
       "       0.42914798, 0.62562631, 0.53716663, 0.58820085, 0.48018328,\n",
       "       0.52730481, 0.50001103, 0.41074901, 0.52474172, 0.59958424,\n",
       "       0.49944435, 0.52304341, 0.51459968, 0.52814537, 0.50251382,\n",
       "       0.41831922, 0.43784789, 0.57773462, 0.50919384, 0.46673996,\n",
       "       0.52968915, 0.58392491, 0.50000643, 0.47236059, 0.46807237,\n",
       "       0.51388242, 0.51370215, 0.45032515, 0.4783937 , 0.47368115])"
      ]
     },
     "execution_count": 76,
     "metadata": {},
     "output_type": "execute_result"
    }
   ],
   "source": [
    "proba"
   ]
  },
  {
   "cell_type": "code",
   "execution_count": 77,
   "metadata": {},
   "outputs": [
    {
     "data": {
      "text/plain": [
       "array([0, 0, 0, 0, 1, 0, 1, 0, 1, 1, 1, 0, 0, 0, 0, 0, 0, 1, 1, 0, 0, 0,\n",
       "       1, 1, 1, 0, 1, 1, 1, 1, 0, 0, 1, 1, 0, 1, 1, 0, 0, 0, 1, 1, 0, 0,\n",
       "       1, 1, 1, 0, 0, 1, 0, 1, 0, 0, 0, 0, 0, 1, 0, 0, 0, 1, 1, 1, 1, 0,\n",
       "       0, 1, 0, 1, 0, 1, 1, 1, 0, 1, 1, 0, 1, 1, 0, 1, 1, 1, 1, 0, 0, 1,\n",
       "       1, 0, 1, 1, 1, 0, 0, 1, 1, 0, 0, 0])"
      ]
     },
     "execution_count": 77,
     "metadata": {},
     "output_type": "execute_result"
    }
   ],
   "source": [
    "y_pred"
   ]
  },
  {
   "cell_type": "code",
   "execution_count": 78,
   "metadata": {},
   "outputs": [
    {
     "data": {
      "text/plain": [
       "array([0.32658817, 0.04153298, 0.20344019])"
      ]
     },
     "execution_count": 78,
     "metadata": {},
     "output_type": "execute_result"
    }
   ],
   "source": [
    "clf.get_params()"
   ]
  },
  {
   "attachments": {},
   "cell_type": "markdown",
   "metadata": {},
   "source": [
    "### Dataset 2"
   ]
  },
  {
   "cell_type": "code",
   "execution_count": 79,
   "metadata": {},
   "outputs": [],
   "source": [
    "n = 50\n",
    "b = np.array([2.3, 4.5, 0.345])\n",
    "X = np.zeros((n,3))\n",
    "for i in range(n):\n",
    "    X[i][0]=np.random.normal(0,1,1)\n",
    "    X[i][1]=np.random.normal(3,2,1)\n",
    "    X[i][2]=np.random.normal(-5,3,1)\n",
    "p=(1/(1+np.exp(-(np.dot(X, b.T)))))\n",
    "y = bernoulli.rvs(p, size=n)"
   ]
  },
  {
   "cell_type": "code",
   "execution_count": 80,
   "metadata": {},
   "outputs": [
    {
     "data": {
      "text/plain": [
       "array([1, 1, 1, 1, 1, 1, 1, 1, 1, 1, 1, 1, 1, 1, 1, 1, 1, 1, 0, 0, 1, 1,\n",
       "       1, 1, 1, 0, 1, 1, 0, 1, 0, 1, 1, 1, 1, 1, 1, 1, 1, 1, 1, 1, 1, 1,\n",
       "       1, 1, 0, 1, 1, 1])"
      ]
     },
     "execution_count": 80,
     "metadata": {},
     "output_type": "execute_result"
    }
   ],
   "source": [
    "y"
   ]
  },
  {
   "cell_type": "code",
   "execution_count": 81,
   "metadata": {},
   "outputs": [
    {
     "data": {
      "text/plain": [
       "0.88"
      ]
     },
     "execution_count": 81,
     "metadata": {},
     "output_type": "execute_result"
    }
   ],
   "source": [
    "clf = LogisticRegression_with_IRLS()\n",
    "clf.fit(X,y)\n",
    "proba = clf.predict_proba(X)\n",
    "y_pred = clf.predict(X)\n",
    "accuracy_score(y,y_pred)\n"
   ]
  },
  {
   "cell_type": "code",
   "execution_count": null,
   "metadata": {},
   "outputs": [],
   "source": []
  }
 ],
 "metadata": {
  "kernelspec": {
   "display_name": "base",
   "language": "python",
   "name": "python3"
  },
  "language_info": {
   "codemirror_mode": {
    "name": "ipython",
    "version": 3
   },
   "file_extension": ".py",
   "mimetype": "text/x-python",
   "name": "python",
   "nbconvert_exporter": "python",
   "pygments_lexer": "ipython3",
   "version": "3.9.7"
  },
  "orig_nbformat": 4
 },
 "nbformat": 4,
 "nbformat_minor": 2
}
